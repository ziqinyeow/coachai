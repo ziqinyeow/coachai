{
 "cells": [
  {
   "cell_type": "code",
   "execution_count": 1,
   "metadata": {},
   "outputs": [],
   "source": [
    "import torch\n",
    "from torch import nn, optim\n",
    "import torch.nn.functional as F\n",
    "from torch.utils.data import Dataset, DataLoader\n",
    "\n",
    "import numpy as np\n",
    "import pandas as pd"
   ]
  },
  {
   "cell_type": "code",
   "execution_count": 54,
   "metadata": {},
   "outputs": [],
   "source": [
    "csv=\"../../train.csv\"\n",
    "cols_to_remove=[\n",
    "    # 'rally',\n",
    "    'ball_round',\n",
    "    'time',\n",
    "    'frame_num',\n",
    "    'match_id',\n",
    "    # 'rally_id', # remove after dataset generated\n",
    "    'lose_reason',\n",
    "    'getpoint_player',\n",
    "    'rally_length',\n",
    "    \n",
    "    # not changing every rally\n",
    "    # 'player',\n",
    "    # 'roundscore_A',\n",
    "    # 'roundscore_B',\n",
    "    \n",
    "    # changes every rally\n",
    "    'aroundhead',\n",
    "    'backhand',\n",
    "    'landing_area',\n",
    "    'landing_height', \n",
    "    'player_location_x', \n",
    "    'player_location_y', \n",
    "    'player_location_area', \n",
    "    'opponent_location_area',\n",
    "    'opponent_location_x', \n",
    "    'opponent_location_y',\n",
    "]\n",
    "T = 4"
   ]
  },
  {
   "cell_type": "code",
   "execution_count": 55,
   "metadata": {},
   "outputs": [
    {
     "data": {
      "text/plain": [
       "(array(['rally', 'roundscore_A', 'roundscore_B', 'player', 'landing_x',\n",
       "        'landing_y', 'set', 'clear', 'defensive shot', 'drive', 'drop',\n",
       "        'lob', 'long service', 'net shot', 'push/rush', 'short service',\n",
       "        'smash'], dtype='<U14'),\n",
       " array(['clear', 'defensive shot', 'drive', 'drop', 'lob', 'long service',\n",
       "        'net shot', 'push/rush', 'short service', 'smash', 'landing_x',\n",
       "        'landing_y'], dtype='<U14'))"
      ]
     },
     "execution_count": 55,
     "metadata": {},
     "output_type": "execute_result"
    }
   ],
   "source": [
    "df = pd.read_csv(csv)\n",
    "\n",
    "# one hot encode type\n",
    "one_hot = pd.get_dummies(df['type'])\n",
    "df = df.drop('type', axis=1)\n",
    "df = df.join(one_hot)\n",
    "\n",
    "type_cols = list(one_hot.columns)\n",
    "labels = type_cols + ['landing_x', 'landing_y']\n",
    "\n",
    "# drop unused_columns\n",
    "for col in cols_to_remove:\n",
    "    df.drop(col, axis='columns', inplace=True)\n",
    "\n",
    "# roundscore\n",
    "df['roundscore_A'] = df['roundscore_A'] / 21\n",
    "df['roundscore_B'] = df['roundscore_B'] / 21\n",
    "\n",
    "# group by matches - cannot mix rally from different matches\n",
    "matches = []\n",
    "for _, m in df.groupby('rally_id'):\n",
    "    m.drop(\"rally_id\", axis=\"columns\", inplace=True)\n",
    "    matches.append(m)\n",
    "\n",
    "cols = list(df.columns)\n",
    "cols.remove('rally_id')\n",
    "np.array(cols), np.array(labels)"
   ]
  },
  {
   "cell_type": "code",
   "execution_count": null,
   "metadata": {},
   "outputs": [
    {
     "data": {
      "text/plain": [
       "(array(['rally', 'roundscore_A', 'roundscore_B', 'player', 'landing_x',\n",
       "        'landing_y', 'set', 'clear', 'defensive shot', 'drive', 'drop',\n",
       "        'lob', 'long service', 'net shot', 'push/rush', 'short service',\n",
       "        'smash'], dtype='<U14'),\n",
       " array(['clear', 'defensive shot', 'drive', 'drop', 'lob', 'long service',\n",
       "        'net shot', 'push/rush', 'short service', 'smash', 'landing_x',\n",
       "        'landing_y'], dtype='<U14'))"
      ]
     },
     "metadata": {},
     "output_type": "display_data"
    }
   ],
   "source": [
    "df = pd.read_csv(csv)\n",
    "\n",
    "# one hot encode type\n",
    "one_hot = pd.get_dummies(df['type'])\n",
    "df = df.drop('type', axis=1)\n",
    "df = df.join(one_hot)\n",
    "\n",
    "type_cols = list(one_hot.columns)\n",
    "labels = type_cols + ['landing_x', 'landing_y']\n",
    "\n",
    "# drop unused_columns\n",
    "for col in cols_to_remove:\n",
    "    df.drop(col, axis='columns', inplace=True)\n",
    "\n",
    "# roundscore\n",
    "df['roundscore_A'] = df['roundscore_A'] / 21\n",
    "df['roundscore_B'] = df['roundscore_B'] / 21\n",
    "\n",
    "# group by matches - cannot mix rally from different matches\n",
    "matches = []\n",
    "for _, m in df.groupby('rally_id'):\n",
    "    m.drop(\"rally_id\", axis=\"columns\", inplace=True)\n",
    "    matches.append(m)\n",
    "\n",
    "cols = list(df.columns)\n",
    "cols.remove('rally_id')\n",
    "np.array(cols), np.array(labels)"
   ]
  },
  {
   "cell_type": "code",
   "execution_count": null,
   "metadata": {},
   "outputs": [
    {
     "data": {
      "text/plain": [
       "(array(['rally', 'roundscore_A', 'roundscore_B', 'player', 'landing_x',\n",
       "        'landing_y', 'set', 'clear', 'defensive shot', 'drive', 'drop',\n",
       "        'lob', 'long service', 'net shot', 'push/rush', 'short service',\n",
       "        'smash'], dtype='<U14'),\n",
       " array(['clear', 'defensive shot', 'drive', 'drop', 'lob', 'long service',\n",
       "        'net shot', 'push/rush', 'short service', 'smash', 'landing_x',\n",
       "        'landing_y'], dtype='<U14'))"
      ]
     },
     "metadata": {},
     "output_type": "display_data"
    }
   ],
   "source": [
    "df = pd.read_csv(csv)\n",
    "\n",
    "# one hot encode type\n",
    "one_hot = pd.get_dummies(df['type'])\n",
    "df = df.drop('type', axis=1)\n",
    "df = df.join(one_hot)\n",
    "\n",
    "type_cols = list(one_hot.columns)\n",
    "labels = type_cols + ['landing_x', 'landing_y']\n",
    "\n",
    "# drop unused_columns\n",
    "for col in cols_to_remove:\n",
    "    df.drop(col, axis='columns', inplace=True)\n",
    "\n",
    "# roundscore\n",
    "df['roundscore_A'] = df['roundscore_A'] / 21\n",
    "df['roundscore_B'] = df['roundscore_B'] / 21\n",
    "\n",
    "# group by matches - cannot mix rally from different matches\n",
    "matches = []\n",
    "for _, m in df.groupby('rally_id'):\n",
    "    m.drop(\"rally_id\", axis=\"columns\", inplace=True)\n",
    "    matches.append(m)\n",
    "\n",
    "cols = list(df.columns)\n",
    "cols.remove('rally_id')\n",
    "np.array(cols), np.array(labels)"
   ]
  },
  {
   "cell_type": "code",
   "execution_count": null,
   "metadata": {},
   "outputs": [
    {
     "data": {
      "text/plain": [
       "(array(['rally', 'roundscore_A', 'roundscore_B', 'player', 'landing_x',\n",
       "        'landing_y', 'set', 'clear', 'defensive shot', 'drive', 'drop',\n",
       "        'lob', 'long service', 'net shot', 'push/rush', 'short service',\n",
       "        'smash'], dtype='<U14'),\n",
       " array(['clear', 'defensive shot', 'drive', 'drop', 'lob', 'long service',\n",
       "        'net shot', 'push/rush', 'short service', 'smash', 'landing_x',\n",
       "        'landing_y'], dtype='<U14'))"
      ]
     },
     "metadata": {},
     "output_type": "display_data"
    }
   ],
   "source": [
    "df = pd.read_csv(csv)\n",
    "\n",
    "# one hot encode type\n",
    "one_hot = pd.get_dummies(df['type'])\n",
    "df = df.drop('type', axis=1)\n",
    "df = df.join(one_hot)\n",
    "\n",
    "type_cols = list(one_hot.columns)\n",
    "labels = type_cols + ['landing_x', 'landing_y']\n",
    "\n",
    "# drop unused_columns\n",
    "for col in cols_to_remove:\n",
    "    df.drop(col, axis='columns', inplace=True)\n",
    "\n",
    "# roundscore\n",
    "df['roundscore_A'] = df['roundscore_A'] / 21\n",
    "df['roundscore_B'] = df['roundscore_B'] / 21\n",
    "\n",
    "# group by matches - cannot mix rally from different matches\n",
    "matches = []\n",
    "for _, m in df.groupby('rally_id'):\n",
    "    m.drop(\"rally_id\", axis=\"columns\", inplace=True)\n",
    "    matches.append(m)\n",
    "\n",
    "cols = list(df.columns)\n",
    "cols.remove('rally_id')\n",
    "np.array(cols), np.array(labels)"
   ]
  },
  {
   "cell_type": "code",
   "execution_count": null,
   "metadata": {},
   "outputs": [
    {
     "data": {
      "text/plain": [
       "(array(['rally', 'roundscore_A', 'roundscore_B', 'player', 'landing_x',\n",
       "        'landing_y', 'set', 'clear', 'defensive shot', 'drive', 'drop',\n",
       "        'lob', 'long service', 'net shot', 'push/rush', 'short service',\n",
       "        'smash'], dtype='<U14'),\n",
       " array(['clear', 'defensive shot', 'drive', 'drop', 'lob', 'long service',\n",
       "        'net shot', 'push/rush', 'short service', 'smash', 'landing_x',\n",
       "        'landing_y'], dtype='<U14'))"
      ]
     },
     "metadata": {},
     "output_type": "display_data"
    }
   ],
   "source": [
    "df = pd.read_csv(csv)\n",
    "\n",
    "# one hot encode type\n",
    "one_hot = pd.get_dummies(df['type'])\n",
    "df = df.drop('type', axis=1)\n",
    "df = df.join(one_hot)\n",
    "\n",
    "type_cols = list(one_hot.columns)\n",
    "labels = type_cols + ['landing_x', 'landing_y']\n",
    "\n",
    "# drop unused_columns\n",
    "for col in cols_to_remove:\n",
    "    df.drop(col, axis='columns', inplace=True)\n",
    "\n",
    "# roundscore\n",
    "df['roundscore_A'] = df['roundscore_A'] / 21\n",
    "df['roundscore_B'] = df['roundscore_B'] / 21\n",
    "\n",
    "# group by matches - cannot mix rally from different matches\n",
    "matches = []\n",
    "for _, m in df.groupby('rally_id'):\n",
    "    m.drop(\"rally_id\", axis=\"columns\", inplace=True)\n",
    "    matches.append(m)\n",
    "\n",
    "cols = list(df.columns)\n",
    "cols.remove('rally_id')\n",
    "np.array(cols), np.array(labels)"
   ]
  },
  {
   "cell_type": "code",
   "execution_count": null,
   "metadata": {},
   "outputs": [
    {
     "data": {
      "text/plain": [
       "(array(['rally', 'roundscore_A', 'roundscore_B', 'player', 'landing_x',\n",
       "        'landing_y', 'set', 'clear', 'defensive shot', 'drive', 'drop',\n",
       "        'lob', 'long service', 'net shot', 'push/rush', 'short service',\n",
       "        'smash'], dtype='<U14'),\n",
       " array(['clear', 'defensive shot', 'drive', 'drop', 'lob', 'long service',\n",
       "        'net shot', 'push/rush', 'short service', 'smash', 'landing_x',\n",
       "        'landing_y'], dtype='<U14'))"
      ]
     },
     "metadata": {},
     "output_type": "display_data"
    }
   ],
   "source": [
    "df = pd.read_csv(csv)\n",
    "\n",
    "# one hot encode type\n",
    "one_hot = pd.get_dummies(df['type'])\n",
    "df = df.drop('type', axis=1)\n",
    "df = df.join(one_hot)\n",
    "\n",
    "type_cols = list(one_hot.columns)\n",
    "labels = type_cols + ['landing_x', 'landing_y']\n",
    "\n",
    "# drop unused_columns\n",
    "for col in cols_to_remove:\n",
    "    df.drop(col, axis='columns', inplace=True)\n",
    "\n",
    "# roundscore\n",
    "df['roundscore_A'] = df['roundscore_A'] / 21\n",
    "df['roundscore_B'] = df['roundscore_B'] / 21\n",
    "\n",
    "# group by matches - cannot mix rally from different matches\n",
    "matches = []\n",
    "for _, m in df.groupby('rally_id'):\n",
    "    m.drop(\"rally_id\", axis=\"columns\", inplace=True)\n",
    "    matches.append(m)\n",
    "\n",
    "cols = list(df.columns)\n",
    "cols.remove('rally_id')\n",
    "np.array(cols), np.array(labels)"
   ]
  },
  {
   "cell_type": "code",
   "execution_count": null,
   "metadata": {},
   "outputs": [
    {
     "data": {
      "text/plain": [
       "(array(['rally', 'roundscore_A', 'roundscore_B', 'player', 'landing_x',\n",
       "        'landing_y', 'set', 'clear', 'defensive shot', 'drive', 'drop',\n",
       "        'lob', 'long service', 'net shot', 'push/rush', 'short service',\n",
       "        'smash'], dtype='<U14'),\n",
       " array(['clear', 'defensive shot', 'drive', 'drop', 'lob', 'long service',\n",
       "        'net shot', 'push/rush', 'short service', 'smash', 'landing_x',\n",
       "        'landing_y'], dtype='<U14'))"
      ]
     },
     "metadata": {},
     "output_type": "display_data"
    }
   ],
   "source": [
    "df = pd.read_csv(csv)\n",
    "\n",
    "# one hot encode type\n",
    "one_hot = pd.get_dummies(df['type'])\n",
    "df = df.drop('type', axis=1)\n",
    "df = df.join(one_hot)\n",
    "\n",
    "type_cols = list(one_hot.columns)\n",
    "labels = type_cols + ['landing_x', 'landing_y']\n",
    "\n",
    "# drop unused_columns\n",
    "for col in cols_to_remove:\n",
    "    df.drop(col, axis='columns', inplace=True)\n",
    "\n",
    "# roundscore\n",
    "df['roundscore_A'] = df['roundscore_A'] / 21\n",
    "df['roundscore_B'] = df['roundscore_B'] / 21\n",
    "\n",
    "# group by matches - cannot mix rally from different matches\n",
    "matches = []\n",
    "for _, m in df.groupby('rally_id'):\n",
    "    m.drop(\"rally_id\", axis=\"columns\", inplace=True)\n",
    "    matches.append(m)\n",
    "\n",
    "cols = list(df.columns)\n",
    "cols.remove('rally_id')\n",
    "np.array(cols), np.array(labels)"
   ]
  },
  {
   "cell_type": "code",
   "execution_count": null,
   "metadata": {},
   "outputs": [
    {
     "data": {
      "text/plain": [
       "(array(['rally', 'roundscore_A', 'roundscore_B', 'player', 'landing_x',\n",
       "        'landing_y', 'set', 'clear', 'defensive shot', 'drive', 'drop',\n",
       "        'lob', 'long service', 'net shot', 'push/rush', 'short service',\n",
       "        'smash'], dtype='<U14'),\n",
       " array(['clear', 'defensive shot', 'drive', 'drop', 'lob', 'long service',\n",
       "        'net shot', 'push/rush', 'short service', 'smash', 'landing_x',\n",
       "        'landing_y'], dtype='<U14'))"
      ]
     },
     "metadata": {},
     "output_type": "display_data"
    }
   ],
   "source": [
    "df = pd.read_csv(csv)\n",
    "\n",
    "# one hot encode type\n",
    "one_hot = pd.get_dummies(df['type'])\n",
    "df = df.drop('type', axis=1)\n",
    "df = df.join(one_hot)\n",
    "\n",
    "type_cols = list(one_hot.columns)\n",
    "labels = type_cols + ['landing_x', 'landing_y']\n",
    "\n",
    "# drop unused_columns\n",
    "for col in cols_to_remove:\n",
    "    df.drop(col, axis='columns', inplace=True)\n",
    "\n",
    "# roundscore\n",
    "df['roundscore_A'] = df['roundscore_A'] / 21\n",
    "df['roundscore_B'] = df['roundscore_B'] / 21\n",
    "\n",
    "# group by matches - cannot mix rally from different matches\n",
    "matches = []\n",
    "for _, m in df.groupby('rally_id'):\n",
    "    m.drop(\"rally_id\", axis=\"columns\", inplace=True)\n",
    "    matches.append(m)\n",
    "\n",
    "cols = list(df.columns)\n",
    "cols.remove('rally_id')\n",
    "np.array(cols), np.array(labels)"
   ]
  },
  {
   "cell_type": "code",
   "execution_count": null,
   "metadata": {},
   "outputs": [
    {
     "data": {
      "text/plain": [
       "(array(['rally', 'roundscore_A', 'roundscore_B', 'player', 'landing_x',\n",
       "        'landing_y', 'set', 'clear', 'defensive shot', 'drive', 'drop',\n",
       "        'lob', 'long service', 'net shot', 'push/rush', 'short service',\n",
       "        'smash'], dtype='<U14'),\n",
       " array(['clear', 'defensive shot', 'drive', 'drop', 'lob', 'long service',\n",
       "        'net shot', 'push/rush', 'short service', 'smash', 'landing_x',\n",
       "        'landing_y'], dtype='<U14'))"
      ]
     },
     "metadata": {},
     "output_type": "display_data"
    }
   ],
   "source": [
    "df = pd.read_csv(csv)\n",
    "\n",
    "# one hot encode type\n",
    "one_hot = pd.get_dummies(df['type'])\n",
    "df = df.drop('type', axis=1)\n",
    "df = df.join(one_hot)\n",
    "\n",
    "type_cols = list(one_hot.columns)\n",
    "labels = type_cols + ['landing_x', 'landing_y']\n",
    "\n",
    "# drop unused_columns\n",
    "for col in cols_to_remove:\n",
    "    df.drop(col, axis='columns', inplace=True)\n",
    "\n",
    "# roundscore\n",
    "df['roundscore_A'] = df['roundscore_A'] / 21\n",
    "df['roundscore_B'] = df['roundscore_B'] / 21\n",
    "\n",
    "# group by matches - cannot mix rally from different matches\n",
    "matches = []\n",
    "for _, m in df.groupby('rally_id'):\n",
    "    m.drop(\"rally_id\", axis=\"columns\", inplace=True)\n",
    "    matches.append(m)\n",
    "\n",
    "cols = list(df.columns)\n",
    "cols.remove('rally_id')\n",
    "np.array(cols), np.array(labels)"
   ]
  },
  {
   "cell_type": "code",
   "execution_count": null,
   "metadata": {},
   "outputs": [
    {
     "data": {
      "text/plain": [
       "(array(['rally', 'roundscore_A', 'roundscore_B', 'player', 'landing_x',\n",
       "        'landing_y', 'set', 'clear', 'defensive shot', 'drive', 'drop',\n",
       "        'lob', 'long service', 'net shot', 'push/rush', 'short service',\n",
       "        'smash'], dtype='<U14'),\n",
       " array(['clear', 'defensive shot', 'drive', 'drop', 'lob', 'long service',\n",
       "        'net shot', 'push/rush', 'short service', 'smash', 'landing_x',\n",
       "        'landing_y'], dtype='<U14'))"
      ]
     },
     "metadata": {},
     "output_type": "display_data"
    }
   ],
   "source": [
    "df = pd.read_csv(csv)\n",
    "\n",
    "# one hot encode type\n",
    "one_hot = pd.get_dummies(df['type'])\n",
    "df = df.drop('type', axis=1)\n",
    "df = df.join(one_hot)\n",
    "\n",
    "type_cols = list(one_hot.columns)\n",
    "labels = type_cols + ['landing_x', 'landing_y']\n",
    "\n",
    "# drop unused_columns\n",
    "for col in cols_to_remove:\n",
    "    df.drop(col, axis='columns', inplace=True)\n",
    "\n",
    "# roundscore\n",
    "df['roundscore_A'] = df['roundscore_A'] / 21\n",
    "df['roundscore_B'] = df['roundscore_B'] / 21\n",
    "\n",
    "# group by matches - cannot mix rally from different matches\n",
    "matches = []\n",
    "for _, m in df.groupby('rally_id'):\n",
    "    m.drop(\"rally_id\", axis=\"columns\", inplace=True)\n",
    "    matches.append(m)\n",
    "\n",
    "cols = list(df.columns)\n",
    "cols.remove('rally_id')\n",
    "np.array(cols), np.array(labels)"
   ]
  },
  {
   "cell_type": "code",
   "execution_count": null,
   "metadata": {},
   "outputs": [
    {
     "data": {
      "text/plain": [
       "(array(['rally', 'roundscore_A', 'roundscore_B', 'player', 'landing_x',\n",
       "        'landing_y', 'set', 'clear', 'defensive shot', 'drive', 'drop',\n",
       "        'lob', 'long service', 'net shot', 'push/rush', 'short service',\n",
       "        'smash'], dtype='<U14'),\n",
       " array(['clear', 'defensive shot', 'drive', 'drop', 'lob', 'long service',\n",
       "        'net shot', 'push/rush', 'short service', 'smash', 'landing_x',\n",
       "        'landing_y'], dtype='<U14'))"
      ]
     },
     "metadata": {},
     "output_type": "display_data"
    }
   ],
   "source": [
    "df = pd.read_csv(csv)\n",
    "\n",
    "# one hot encode type\n",
    "one_hot = pd.get_dummies(df['type'])\n",
    "df = df.drop('type', axis=1)\n",
    "df = df.join(one_hot)\n",
    "\n",
    "type_cols = list(one_hot.columns)\n",
    "labels = type_cols + ['landing_x', 'landing_y']\n",
    "\n",
    "# drop unused_columns\n",
    "for col in cols_to_remove:\n",
    "    df.drop(col, axis='columns', inplace=True)\n",
    "\n",
    "# roundscore\n",
    "df['roundscore_A'] = df['roundscore_A'] / 21\n",
    "df['roundscore_B'] = df['roundscore_B'] / 21\n",
    "\n",
    "# group by matches - cannot mix rally from different matches\n",
    "matches = []\n",
    "for _, m in df.groupby('rally_id'):\n",
    "    m.drop(\"rally_id\", axis=\"columns\", inplace=True)\n",
    "    matches.append(m)\n",
    "\n",
    "cols = list(df.columns)\n",
    "cols.remove('rally_id')\n",
    "np.array(cols), np.array(labels)"
   ]
  },
  {
   "cell_type": "code",
   "execution_count": null,
   "metadata": {},
   "outputs": [
    {
     "data": {
      "text/plain": [
       "(array(['rally', 'roundscore_A', 'roundscore_B', 'player', 'landing_x',\n",
       "        'landing_y', 'set', 'clear', 'defensive shot', 'drive', 'drop',\n",
       "        'lob', 'long service', 'net shot', 'push/rush', 'short service',\n",
       "        'smash'], dtype='<U14'),\n",
       " array(['clear', 'defensive shot', 'drive', 'drop', 'lob', 'long service',\n",
       "        'net shot', 'push/rush', 'short service', 'smash', 'landing_x',\n",
       "        'landing_y'], dtype='<U14'))"
      ]
     },
     "metadata": {},
     "output_type": "display_data"
    }
   ],
   "source": [
    "df = pd.read_csv(csv)\n",
    "\n",
    "# one hot encode type\n",
    "one_hot = pd.get_dummies(df['type'])\n",
    "df = df.drop('type', axis=1)\n",
    "df = df.join(one_hot)\n",
    "\n",
    "type_cols = list(one_hot.columns)\n",
    "labels = type_cols + ['landing_x', 'landing_y']\n",
    "\n",
    "# drop unused_columns\n",
    "for col in cols_to_remove:\n",
    "    df.drop(col, axis='columns', inplace=True)\n",
    "\n",
    "# roundscore\n",
    "df['roundscore_A'] = df['roundscore_A'] / 21\n",
    "df['roundscore_B'] = df['roundscore_B'] / 21\n",
    "\n",
    "# group by matches - cannot mix rally from different matches\n",
    "matches = []\n",
    "for _, m in df.groupby('rally_id'):\n",
    "    m.drop(\"rally_id\", axis=\"columns\", inplace=True)\n",
    "    matches.append(m)\n",
    "\n",
    "cols = list(df.columns)\n",
    "cols.remove('rally_id')\n",
    "np.array(cols), np.array(labels)"
   ]
  },
  {
   "cell_type": "code",
   "execution_count": null,
   "metadata": {},
   "outputs": [
    {
     "data": {
      "text/plain": [
       "(array(['rally', 'roundscore_A', 'roundscore_B', 'player', 'landing_x',\n",
       "        'landing_y', 'set', 'clear', 'defensive shot', 'drive', 'drop',\n",
       "        'lob', 'long service', 'net shot', 'push/rush', 'short service',\n",
       "        'smash'], dtype='<U14'),\n",
       " array(['clear', 'defensive shot', 'drive', 'drop', 'lob', 'long service',\n",
       "        'net shot', 'push/rush', 'short service', 'smash', 'landing_x',\n",
       "        'landing_y'], dtype='<U14'))"
      ]
     },
     "metadata": {},
     "output_type": "display_data"
    }
   ],
   "source": [
    "df = pd.read_csv(csv)\n",
    "\n",
    "# one hot encode type\n",
    "one_hot = pd.get_dummies(df['type'])\n",
    "df = df.drop('type', axis=1)\n",
    "df = df.join(one_hot)\n",
    "\n",
    "type_cols = list(one_hot.columns)\n",
    "labels = type_cols + ['landing_x', 'landing_y']\n",
    "\n",
    "# drop unused_columns\n",
    "for col in cols_to_remove:\n",
    "    df.drop(col, axis='columns', inplace=True)\n",
    "\n",
    "# roundscore\n",
    "df['roundscore_A'] = df['roundscore_A'] / 21\n",
    "df['roundscore_B'] = df['roundscore_B'] / 21\n",
    "\n",
    "# group by matches - cannot mix rally from different matches\n",
    "matches = []\n",
    "for _, m in df.groupby('rally_id'):\n",
    "    m.drop(\"rally_id\", axis=\"columns\", inplace=True)\n",
    "    matches.append(m)\n",
    "\n",
    "cols = list(df.columns)\n",
    "cols.remove('rally_id')\n",
    "np.array(cols), np.array(labels)"
   ]
  },
  {
   "cell_type": "code",
   "execution_count": null,
   "metadata": {},
   "outputs": [
    {
     "data": {
      "text/plain": [
       "(array(['rally', 'roundscore_A', 'roundscore_B', 'player', 'landing_x',\n",
       "        'landing_y', 'set', 'clear', 'defensive shot', 'drive', 'drop',\n",
       "        'lob', 'long service', 'net shot', 'push/rush', 'short service',\n",
       "        'smash'], dtype='<U14'),\n",
       " array(['clear', 'defensive shot', 'drive', 'drop', 'lob', 'long service',\n",
       "        'net shot', 'push/rush', 'short service', 'smash', 'landing_x',\n",
       "        'landing_y'], dtype='<U14'))"
      ]
     },
     "metadata": {},
     "output_type": "display_data"
    }
   ],
   "source": [
    "df = pd.read_csv(csv)\n",
    "\n",
    "# one hot encode type\n",
    "one_hot = pd.get_dummies(df['type'])\n",
    "df = df.drop('type', axis=1)\n",
    "df = df.join(one_hot)\n",
    "\n",
    "type_cols = list(one_hot.columns)\n",
    "labels = type_cols + ['landing_x', 'landing_y']\n",
    "\n",
    "# drop unused_columns\n",
    "for col in cols_to_remove:\n",
    "    df.drop(col, axis='columns', inplace=True)\n",
    "\n",
    "# roundscore\n",
    "df['roundscore_A'] = df['roundscore_A'] / 21\n",
    "df['roundscore_B'] = df['roundscore_B'] / 21\n",
    "\n",
    "# group by matches - cannot mix rally from different matches\n",
    "matches = []\n",
    "for _, m in df.groupby('rally_id'):\n",
    "    m.drop(\"rally_id\", axis=\"columns\", inplace=True)\n",
    "    matches.append(m)\n",
    "\n",
    "cols = list(df.columns)\n",
    "cols.remove('rally_id')\n",
    "np.array(cols), np.array(labels)"
   ]
  },
  {
   "cell_type": "code",
   "execution_count": null,
   "metadata": {},
   "outputs": [
    {
     "data": {
      "text/plain": [
       "(array(['rally', 'roundscore_A', 'roundscore_B', 'player', 'landing_x',\n",
       "        'landing_y', 'set', 'clear', 'defensive shot', 'drive', 'drop',\n",
       "        'lob', 'long service', 'net shot', 'push/rush', 'short service',\n",
       "        'smash'], dtype='<U14'),\n",
       " array(['clear', 'defensive shot', 'drive', 'drop', 'lob', 'long service',\n",
       "        'net shot', 'push/rush', 'short service', 'smash', 'landing_x',\n",
       "        'landing_y'], dtype='<U14'))"
      ]
     },
     "metadata": {},
     "output_type": "display_data"
    }
   ],
   "source": [
    "df = pd.read_csv(csv)\n",
    "\n",
    "# one hot encode type\n",
    "one_hot = pd.get_dummies(df['type'])\n",
    "df = df.drop('type', axis=1)\n",
    "df = df.join(one_hot)\n",
    "\n",
    "type_cols = list(one_hot.columns)\n",
    "labels = type_cols + ['landing_x', 'landing_y']\n",
    "\n",
    "# drop unused_columns\n",
    "for col in cols_to_remove:\n",
    "    df.drop(col, axis='columns', inplace=True)\n",
    "\n",
    "# roundscore\n",
    "df['roundscore_A'] = df['roundscore_A'] / 21\n",
    "df['roundscore_B'] = df['roundscore_B'] / 21\n",
    "\n",
    "# group by matches - cannot mix rally from different matches\n",
    "matches = []\n",
    "for _, m in df.groupby('rally_id'):\n",
    "    m.drop(\"rally_id\", axis=\"columns\", inplace=True)\n",
    "    matches.append(m)\n",
    "\n",
    "cols = list(df.columns)\n",
    "cols.remove('rally_id')\n",
    "np.array(cols), np.array(labels)"
   ]
  },
  {
   "cell_type": "code",
   "execution_count": null,
   "metadata": {},
   "outputs": [
    {
     "data": {
      "text/plain": [
       "(array(['rally', 'roundscore_A', 'roundscore_B', 'player', 'landing_x',\n",
       "        'landing_y', 'set', 'clear', 'defensive shot', 'drive', 'drop',\n",
       "        'lob', 'long service', 'net shot', 'push/rush', 'short service',\n",
       "        'smash'], dtype='<U14'),\n",
       " array(['clear', 'defensive shot', 'drive', 'drop', 'lob', 'long service',\n",
       "        'net shot', 'push/rush', 'short service', 'smash', 'landing_x',\n",
       "        'landing_y'], dtype='<U14'))"
      ]
     },
     "metadata": {},
     "output_type": "display_data"
    }
   ],
   "source": [
    "df = pd.read_csv(csv)\n",
    "\n",
    "# one hot encode type\n",
    "one_hot = pd.get_dummies(df['type'])\n",
    "df = df.drop('type', axis=1)\n",
    "df = df.join(one_hot)\n",
    "\n",
    "type_cols = list(one_hot.columns)\n",
    "labels = type_cols + ['landing_x', 'landing_y']\n",
    "\n",
    "# drop unused_columns\n",
    "for col in cols_to_remove:\n",
    "    df.drop(col, axis='columns', inplace=True)\n",
    "\n",
    "# roundscore\n",
    "df['roundscore_A'] = df['roundscore_A'] / 21\n",
    "df['roundscore_B'] = df['roundscore_B'] / 21\n",
    "\n",
    "# group by matches - cannot mix rally from different matches\n",
    "matches = []\n",
    "for _, m in df.groupby('rally_id'):\n",
    "    m.drop(\"rally_id\", axis=\"columns\", inplace=True)\n",
    "    matches.append(m)\n",
    "\n",
    "cols = list(df.columns)\n",
    "cols.remove('rally_id')\n",
    "np.array(cols), np.array(labels)"
   ]
  },
  {
   "cell_type": "code",
   "execution_count": null,
   "metadata": {},
   "outputs": [
    {
     "data": {
      "text/plain": [
       "(array(['rally', 'roundscore_A', 'roundscore_B', 'player', 'landing_x',\n",
       "        'landing_y', 'set', 'clear', 'defensive shot', 'drive', 'drop',\n",
       "        'lob', 'long service', 'net shot', 'push/rush', 'short service',\n",
       "        'smash'], dtype='<U14'),\n",
       " array(['clear', 'defensive shot', 'drive', 'drop', 'lob', 'long service',\n",
       "        'net shot', 'push/rush', 'short service', 'smash', 'landing_x',\n",
       "        'landing_y'], dtype='<U14'))"
      ]
     },
     "metadata": {},
     "output_type": "display_data"
    }
   ],
   "source": [
    "df = pd.read_csv(csv)\n",
    "\n",
    "# one hot encode type\n",
    "one_hot = pd.get_dummies(df['type'])\n",
    "df = df.drop('type', axis=1)\n",
    "df = df.join(one_hot)\n",
    "\n",
    "type_cols = list(one_hot.columns)\n",
    "labels = type_cols + ['landing_x', 'landing_y']\n",
    "\n",
    "# drop unused_columns\n",
    "for col in cols_to_remove:\n",
    "    df.drop(col, axis='columns', inplace=True)\n",
    "\n",
    "# roundscore\n",
    "df['roundscore_A'] = df['roundscore_A'] / 21\n",
    "df['roundscore_B'] = df['roundscore_B'] / 21\n",
    "\n",
    "# group by matches - cannot mix rally from different matches\n",
    "matches = []\n",
    "for _, m in df.groupby('rally_id'):\n",
    "    m.drop(\"rally_id\", axis=\"columns\", inplace=True)\n",
    "    matches.append(m)\n",
    "\n",
    "cols = list(df.columns)\n",
    "cols.remove('rally_id')\n",
    "np.array(cols), np.array(labels)"
   ]
  },
  {
   "cell_type": "code",
   "execution_count": null,
   "metadata": {},
   "outputs": [
    {
     "data": {
      "text/plain": [
       "(array(['rally', 'roundscore_A', 'roundscore_B', 'player', 'landing_x',\n",
       "        'landing_y', 'set', 'clear', 'defensive shot', 'drive', 'drop',\n",
       "        'lob', 'long service', 'net shot', 'push/rush', 'short service',\n",
       "        'smash'], dtype='<U14'),\n",
       " array(['clear', 'defensive shot', 'drive', 'drop', 'lob', 'long service',\n",
       "        'net shot', 'push/rush', 'short service', 'smash', 'landing_x',\n",
       "        'landing_y'], dtype='<U14'))"
      ]
     },
     "metadata": {},
     "output_type": "display_data"
    }
   ],
   "source": [
    "df = pd.read_csv(csv)\n",
    "\n",
    "# one hot encode type\n",
    "one_hot = pd.get_dummies(df['type'])\n",
    "df = df.drop('type', axis=1)\n",
    "df = df.join(one_hot)\n",
    "\n",
    "type_cols = list(one_hot.columns)\n",
    "labels = type_cols + ['landing_x', 'landing_y']\n",
    "\n",
    "# drop unused_columns\n",
    "for col in cols_to_remove:\n",
    "    df.drop(col, axis='columns', inplace=True)\n",
    "\n",
    "# roundscore\n",
    "df['roundscore_A'] = df['roundscore_A'] / 21\n",
    "df['roundscore_B'] = df['roundscore_B'] / 21\n",
    "\n",
    "# group by matches - cannot mix rally from different matches\n",
    "matches = []\n",
    "for _, m in df.groupby('rally_id'):\n",
    "    m.drop(\"rally_id\", axis=\"columns\", inplace=True)\n",
    "    matches.append(m)\n",
    "\n",
    "cols = list(df.columns)\n",
    "cols.remove('rally_id')\n",
    "np.array(cols), np.array(labels)"
   ]
  },
  {
   "cell_type": "code",
   "execution_count": null,
   "metadata": {},
   "outputs": [
    {
     "data": {
      "text/plain": [
       "(array(['rally', 'roundscore_A', 'roundscore_B', 'player', 'landing_x',\n",
       "        'landing_y', 'set', 'clear', 'defensive shot', 'drive', 'drop',\n",
       "        'lob', 'long service', 'net shot', 'push/rush', 'short service',\n",
       "        'smash'], dtype='<U14'),\n",
       " array(['clear', 'defensive shot', 'drive', 'drop', 'lob', 'long service',\n",
       "        'net shot', 'push/rush', 'short service', 'smash', 'landing_x',\n",
       "        'landing_y'], dtype='<U14'))"
      ]
     },
     "metadata": {},
     "output_type": "display_data"
    }
   ],
   "source": [
    "df = pd.read_csv(csv)\n",
    "\n",
    "# one hot encode type\n",
    "one_hot = pd.get_dummies(df['type'])\n",
    "df = df.drop('type', axis=1)\n",
    "df = df.join(one_hot)\n",
    "\n",
    "type_cols = list(one_hot.columns)\n",
    "labels = type_cols + ['landing_x', 'landing_y']\n",
    "\n",
    "# drop unused_columns\n",
    "for col in cols_to_remove:\n",
    "    df.drop(col, axis='columns', inplace=True)\n",
    "\n",
    "# roundscore\n",
    "df['roundscore_A'] = df['roundscore_A'] / 21\n",
    "df['roundscore_B'] = df['roundscore_B'] / 21\n",
    "\n",
    "# group by matches - cannot mix rally from different matches\n",
    "matches = []\n",
    "for _, m in df.groupby('rally_id'):\n",
    "    m.drop(\"rally_id\", axis=\"columns\", inplace=True)\n",
    "    matches.append(m)\n",
    "\n",
    "cols = list(df.columns)\n",
    "cols.remove('rally_id')\n",
    "np.array(cols), np.array(labels)"
   ]
  },
  {
   "cell_type": "code",
   "execution_count": null,
   "metadata": {},
   "outputs": [
    {
     "data": {
      "text/plain": [
       "(array(['rally', 'roundscore_A', 'roundscore_B', 'player', 'landing_x',\n",
       "        'landing_y', 'set', 'clear', 'defensive shot', 'drive', 'drop',\n",
       "        'lob', 'long service', 'net shot', 'push/rush', 'short service',\n",
       "        'smash'], dtype='<U14'),\n",
       " array(['clear', 'defensive shot', 'drive', 'drop', 'lob', 'long service',\n",
       "        'net shot', 'push/rush', 'short service', 'smash', 'landing_x',\n",
       "        'landing_y'], dtype='<U14'))"
      ]
     },
     "metadata": {},
     "output_type": "display_data"
    }
   ],
   "source": [
    "df = pd.read_csv(csv)\n",
    "\n",
    "# one hot encode type\n",
    "one_hot = pd.get_dummies(df['type'])\n",
    "df = df.drop('type', axis=1)\n",
    "df = df.join(one_hot)\n",
    "\n",
    "type_cols = list(one_hot.columns)\n",
    "labels = type_cols + ['landing_x', 'landing_y']\n",
    "\n",
    "# drop unused_columns\n",
    "for col in cols_to_remove:\n",
    "    df.drop(col, axis='columns', inplace=True)\n",
    "\n",
    "# roundscore\n",
    "df['roundscore_A'] = df['roundscore_A'] / 21\n",
    "df['roundscore_B'] = df['roundscore_B'] / 21\n",
    "\n",
    "# group by matches - cannot mix rally from different matches\n",
    "matches = []\n",
    "for _, m in df.groupby('rally_id'):\n",
    "    m.drop(\"rally_id\", axis=\"columns\", inplace=True)\n",
    "    matches.append(m)\n",
    "\n",
    "cols = list(df.columns)\n",
    "cols.remove('rally_id')\n",
    "np.array(cols), np.array(labels)"
   ]
  },
  {
   "cell_type": "code",
   "execution_count": null,
   "metadata": {},
   "outputs": [
    {
     "data": {
      "text/plain": [
       "(array(['rally', 'roundscore_A', 'roundscore_B', 'player', 'landing_x',\n",
       "        'landing_y', 'set', 'clear', 'defensive shot', 'drive', 'drop',\n",
       "        'lob', 'long service', 'net shot', 'push/rush', 'short service',\n",
       "        'smash'], dtype='<U14'),\n",
       " array(['clear', 'defensive shot', 'drive', 'drop', 'lob', 'long service',\n",
       "        'net shot', 'push/rush', 'short service', 'smash', 'landing_x',\n",
       "        'landing_y'], dtype='<U14'))"
      ]
     },
     "metadata": {},
     "output_type": "display_data"
    }
   ],
   "source": [
    "df = pd.read_csv(csv)\n",
    "\n",
    "# one hot encode type\n",
    "one_hot = pd.get_dummies(df['type'])\n",
    "df = df.drop('type', axis=1)\n",
    "df = df.join(one_hot)\n",
    "\n",
    "type_cols = list(one_hot.columns)\n",
    "labels = type_cols + ['landing_x', 'landing_y']\n",
    "\n",
    "# drop unused_columns\n",
    "for col in cols_to_remove:\n",
    "    df.drop(col, axis='columns', inplace=True)\n",
    "\n",
    "# roundscore\n",
    "df['roundscore_A'] = df['roundscore_A'] / 21\n",
    "df['roundscore_B'] = df['roundscore_B'] / 21\n",
    "\n",
    "# group by matches - cannot mix rally from different matches\n",
    "matches = []\n",
    "for _, m in df.groupby('rally_id'):\n",
    "    m.drop(\"rally_id\", axis=\"columns\", inplace=True)\n",
    "    matches.append(m)\n",
    "\n",
    "cols = list(df.columns)\n",
    "cols.remove('rally_id')\n",
    "np.array(cols), np.array(labels)"
   ]
  },
  {
   "cell_type": "code",
   "execution_count": null,
   "metadata": {},
   "outputs": [
    {
     "data": {
      "text/plain": [
       "(array(['rally', 'roundscore_A', 'roundscore_B', 'player', 'landing_x',\n",
       "        'landing_y', 'set', 'clear', 'defensive shot', 'drive', 'drop',\n",
       "        'lob', 'long service', 'net shot', 'push/rush', 'short service',\n",
       "        'smash'], dtype='<U14'),\n",
       " array(['clear', 'defensive shot', 'drive', 'drop', 'lob', 'long service',\n",
       "        'net shot', 'push/rush', 'short service', 'smash', 'landing_x',\n",
       "        'landing_y'], dtype='<U14'))"
      ]
     },
     "metadata": {},
     "output_type": "display_data"
    }
   ],
   "source": [
    "df = pd.read_csv(csv)\n",
    "\n",
    "# one hot encode type\n",
    "one_hot = pd.get_dummies(df['type'])\n",
    "df = df.drop('type', axis=1)\n",
    "df = df.join(one_hot)\n",
    "\n",
    "type_cols = list(one_hot.columns)\n",
    "labels = type_cols + ['landing_x', 'landing_y']\n",
    "\n",
    "# drop unused_columns\n",
    "for col in cols_to_remove:\n",
    "    df.drop(col, axis='columns', inplace=True)\n",
    "\n",
    "# roundscore\n",
    "df['roundscore_A'] = df['roundscore_A'] / 21\n",
    "df['roundscore_B'] = df['roundscore_B'] / 21\n",
    "\n",
    "# group by matches - cannot mix rally from different matches\n",
    "matches = []\n",
    "for _, m in df.groupby('rally_id'):\n",
    "    m.drop(\"rally_id\", axis=\"columns\", inplace=True)\n",
    "    matches.append(m)\n",
    "\n",
    "cols = list(df.columns)\n",
    "cols.remove('rally_id')\n",
    "np.array(cols), np.array(labels)"
   ]
  },
  {
   "cell_type": "code",
   "execution_count": null,
   "metadata": {},
   "outputs": [
    {
     "data": {
      "text/plain": [
       "(array(['rally', 'roundscore_A', 'roundscore_B', 'player', 'landing_x',\n",
       "        'landing_y', 'set', 'clear', 'defensive shot', 'drive', 'drop',\n",
       "        'lob', 'long service', 'net shot', 'push/rush', 'short service',\n",
       "        'smash'], dtype='<U14'),\n",
       " array(['clear', 'defensive shot', 'drive', 'drop', 'lob', 'long service',\n",
       "        'net shot', 'push/rush', 'short service', 'smash', 'landing_x',\n",
       "        'landing_y'], dtype='<U14'))"
      ]
     },
     "metadata": {},
     "output_type": "display_data"
    }
   ],
   "source": [
    "df = pd.read_csv(csv)\n",
    "\n",
    "# one hot encode type\n",
    "one_hot = pd.get_dummies(df['type'])\n",
    "df = df.drop('type', axis=1)\n",
    "df = df.join(one_hot)\n",
    "\n",
    "type_cols = list(one_hot.columns)\n",
    "labels = type_cols + ['landing_x', 'landing_y']\n",
    "\n",
    "# drop unused_columns\n",
    "for col in cols_to_remove:\n",
    "    df.drop(col, axis='columns', inplace=True)\n",
    "\n",
    "# roundscore\n",
    "df['roundscore_A'] = df['roundscore_A'] / 21\n",
    "df['roundscore_B'] = df['roundscore_B'] / 21\n",
    "\n",
    "# group by matches - cannot mix rally from different matches\n",
    "matches = []\n",
    "for _, m in df.groupby('rally_id'):\n",
    "    m.drop(\"rally_id\", axis=\"columns\", inplace=True)\n",
    "    matches.append(m)\n",
    "\n",
    "cols = list(df.columns)\n",
    "cols.remove('rally_id')\n",
    "np.array(cols), np.array(labels)"
   ]
  },
  {
   "cell_type": "code",
   "execution_count": null,
   "metadata": {},
   "outputs": [
    {
     "data": {
      "text/plain": [
       "(array(['rally', 'roundscore_A', 'roundscore_B', 'player', 'landing_x',\n",
       "        'landing_y', 'set', 'clear', 'defensive shot', 'drive', 'drop',\n",
       "        'lob', 'long service', 'net shot', 'push/rush', 'short service',\n",
       "        'smash'], dtype='<U14'),\n",
       " array(['clear', 'defensive shot', 'drive', 'drop', 'lob', 'long service',\n",
       "        'net shot', 'push/rush', 'short service', 'smash', 'landing_x',\n",
       "        'landing_y'], dtype='<U14'))"
      ]
     },
     "metadata": {},
     "output_type": "display_data"
    }
   ],
   "source": [
    "df = pd.read_csv(csv)\n",
    "\n",
    "# one hot encode type\n",
    "one_hot = pd.get_dummies(df['type'])\n",
    "df = df.drop('type', axis=1)\n",
    "df = df.join(one_hot)\n",
    "\n",
    "type_cols = list(one_hot.columns)\n",
    "labels = type_cols + ['landing_x', 'landing_y']\n",
    "\n",
    "# drop unused_columns\n",
    "for col in cols_to_remove:\n",
    "    df.drop(col, axis='columns', inplace=True)\n",
    "\n",
    "# roundscore\n",
    "df['roundscore_A'] = df['roundscore_A'] / 21\n",
    "df['roundscore_B'] = df['roundscore_B'] / 21\n",
    "\n",
    "# group by matches - cannot mix rally from different matches\n",
    "matches = []\n",
    "for _, m in df.groupby('rally_id'):\n",
    "    m.drop(\"rally_id\", axis=\"columns\", inplace=True)\n",
    "    matches.append(m)\n",
    "\n",
    "cols = list(df.columns)\n",
    "cols.remove('rally_id')\n",
    "np.array(cols), np.array(labels)"
   ]
  },
  {
   "cell_type": "code",
   "execution_count": null,
   "metadata": {},
   "outputs": [
    {
     "data": {
      "text/plain": [
       "(array(['rally', 'roundscore_A', 'roundscore_B', 'player', 'landing_x',\n",
       "        'landing_y', 'set', 'clear', 'defensive shot', 'drive', 'drop',\n",
       "        'lob', 'long service', 'net shot', 'push/rush', 'short service',\n",
       "        'smash'], dtype='<U14'),\n",
       " array(['clear', 'defensive shot', 'drive', 'drop', 'lob', 'long service',\n",
       "        'net shot', 'push/rush', 'short service', 'smash', 'landing_x',\n",
       "        'landing_y'], dtype='<U14'))"
      ]
     },
     "metadata": {},
     "output_type": "display_data"
    }
   ],
   "source": [
    "df = pd.read_csv(csv)\n",
    "\n",
    "# one hot encode type\n",
    "one_hot = pd.get_dummies(df['type'])\n",
    "df = df.drop('type', axis=1)\n",
    "df = df.join(one_hot)\n",
    "\n",
    "type_cols = list(one_hot.columns)\n",
    "labels = type_cols + ['landing_x', 'landing_y']\n",
    "\n",
    "# drop unused_columns\n",
    "for col in cols_to_remove:\n",
    "    df.drop(col, axis='columns', inplace=True)\n",
    "\n",
    "# roundscore\n",
    "df['roundscore_A'] = df['roundscore_A'] / 21\n",
    "df['roundscore_B'] = df['roundscore_B'] / 21\n",
    "\n",
    "# group by matches - cannot mix rally from different matches\n",
    "matches = []\n",
    "for _, m in df.groupby('rally_id'):\n",
    "    m.drop(\"rally_id\", axis=\"columns\", inplace=True)\n",
    "    matches.append(m)\n",
    "\n",
    "cols = list(df.columns)\n",
    "cols.remove('rally_id')\n",
    "np.array(cols), np.array(labels)"
   ]
  },
  {
   "cell_type": "code",
   "execution_count": null,
   "metadata": {},
   "outputs": [
    {
     "data": {
      "text/plain": [
       "(array(['rally', 'roundscore_A', 'roundscore_B', 'player', 'landing_x',\n",
       "        'landing_y', 'set', 'clear', 'defensive shot', 'drive', 'drop',\n",
       "        'lob', 'long service', 'net shot', 'push/rush', 'short service',\n",
       "        'smash'], dtype='<U14'),\n",
       " array(['clear', 'defensive shot', 'drive', 'drop', 'lob', 'long service',\n",
       "        'net shot', 'push/rush', 'short service', 'smash', 'landing_x',\n",
       "        'landing_y'], dtype='<U14'))"
      ]
     },
     "metadata": {},
     "output_type": "display_data"
    }
   ],
   "source": [
    "df = pd.read_csv(csv)\n",
    "\n",
    "# one hot encode type\n",
    "one_hot = pd.get_dummies(df['type'])\n",
    "df = df.drop('type', axis=1)\n",
    "df = df.join(one_hot)\n",
    "\n",
    "type_cols = list(one_hot.columns)\n",
    "labels = type_cols + ['landing_x', 'landing_y']\n",
    "\n",
    "# drop unused_columns\n",
    "for col in cols_to_remove:\n",
    "    df.drop(col, axis='columns', inplace=True)\n",
    "\n",
    "# roundscore\n",
    "df['roundscore_A'] = df['roundscore_A'] / 21\n",
    "df['roundscore_B'] = df['roundscore_B'] / 21\n",
    "\n",
    "# group by matches - cannot mix rally from different matches\n",
    "matches = []\n",
    "for _, m in df.groupby('rally_id'):\n",
    "    m.drop(\"rally_id\", axis=\"columns\", inplace=True)\n",
    "    matches.append(m)\n",
    "\n",
    "cols = list(df.columns)\n",
    "cols.remove('rally_id')\n",
    "np.array(cols), np.array(labels)"
   ]
  },
  {
   "cell_type": "code",
   "execution_count": null,
   "metadata": {},
   "outputs": [
    {
     "data": {
      "text/plain": [
       "(array(['rally', 'roundscore_A', 'roundscore_B', 'player', 'landing_x',\n",
       "        'landing_y', 'set', 'clear', 'defensive shot', 'drive', 'drop',\n",
       "        'lob', 'long service', 'net shot', 'push/rush', 'short service',\n",
       "        'smash'], dtype='<U14'),\n",
       " array(['clear', 'defensive shot', 'drive', 'drop', 'lob', 'long service',\n",
       "        'net shot', 'push/rush', 'short service', 'smash', 'landing_x',\n",
       "        'landing_y'], dtype='<U14'))"
      ]
     },
     "metadata": {},
     "output_type": "display_data"
    }
   ],
   "source": [
    "df = pd.read_csv(csv)\n",
    "\n",
    "# one hot encode type\n",
    "one_hot = pd.get_dummies(df['type'])\n",
    "df = df.drop('type', axis=1)\n",
    "df = df.join(one_hot)\n",
    "\n",
    "type_cols = list(one_hot.columns)\n",
    "labels = type_cols + ['landing_x', 'landing_y']\n",
    "\n",
    "# drop unused_columns\n",
    "for col in cols_to_remove:\n",
    "    df.drop(col, axis='columns', inplace=True)\n",
    "\n",
    "# roundscore\n",
    "df['roundscore_A'] = df['roundscore_A'] / 21\n",
    "df['roundscore_B'] = df['roundscore_B'] / 21\n",
    "\n",
    "# group by matches - cannot mix rally from different matches\n",
    "matches = []\n",
    "for _, m in df.groupby('rally_id'):\n",
    "    m.drop(\"rally_id\", axis=\"columns\", inplace=True)\n",
    "    matches.append(m)\n",
    "\n",
    "cols = list(df.columns)\n",
    "cols.remove('rally_id')\n",
    "np.array(cols), np.array(labels)"
   ]
  },
  {
   "cell_type": "code",
   "execution_count": null,
   "metadata": {},
   "outputs": [
    {
     "data": {
      "text/plain": [
       "(array(['rally', 'roundscore_A', 'roundscore_B', 'player', 'landing_x',\n",
       "        'landing_y', 'set', 'clear', 'defensive shot', 'drive', 'drop',\n",
       "        'lob', 'long service', 'net shot', 'push/rush', 'short service',\n",
       "        'smash'], dtype='<U14'),\n",
       " array(['clear', 'defensive shot', 'drive', 'drop', 'lob', 'long service',\n",
       "        'net shot', 'push/rush', 'short service', 'smash', 'landing_x',\n",
       "        'landing_y'], dtype='<U14'))"
      ]
     },
     "metadata": {},
     "output_type": "display_data"
    }
   ],
   "source": [
    "df = pd.read_csv(csv)\n",
    "\n",
    "# one hot encode type\n",
    "one_hot = pd.get_dummies(df['type'])\n",
    "df = df.drop('type', axis=1)\n",
    "df = df.join(one_hot)\n",
    "\n",
    "type_cols = list(one_hot.columns)\n",
    "labels = type_cols + ['landing_x', 'landing_y']\n",
    "\n",
    "# drop unused_columns\n",
    "for col in cols_to_remove:\n",
    "    df.drop(col, axis='columns', inplace=True)\n",
    "\n",
    "# roundscore\n",
    "df['roundscore_A'] = df['roundscore_A'] / 21\n",
    "df['roundscore_B'] = df['roundscore_B'] / 21\n",
    "\n",
    "# group by matches - cannot mix rally from different matches\n",
    "matches = []\n",
    "for _, m in df.groupby('rally_id'):\n",
    "    m.drop(\"rally_id\", axis=\"columns\", inplace=True)\n",
    "    matches.append(m)\n",
    "\n",
    "cols = list(df.columns)\n",
    "cols.remove('rally_id')\n",
    "np.array(cols), np.array(labels)"
   ]
  },
  {
   "cell_type": "code",
   "execution_count": null,
   "metadata": {},
   "outputs": [
    {
     "data": {
      "text/plain": [
       "(array(['rally', 'roundscore_A', 'roundscore_B', 'player', 'landing_x',\n",
       "        'landing_y', 'set', 'clear', 'defensive shot', 'drive', 'drop',\n",
       "        'lob', 'long service', 'net shot', 'push/rush', 'short service',\n",
       "        'smash'], dtype='<U14'),\n",
       " array(['clear', 'defensive shot', 'drive', 'drop', 'lob', 'long service',\n",
       "        'net shot', 'push/rush', 'short service', 'smash', 'landing_x',\n",
       "        'landing_y'], dtype='<U14'))"
      ]
     },
     "metadata": {},
     "output_type": "display_data"
    }
   ],
   "source": [
    "df = pd.read_csv(csv)\n",
    "\n",
    "# one hot encode type\n",
    "one_hot = pd.get_dummies(df['type'])\n",
    "df = df.drop('type', axis=1)\n",
    "df = df.join(one_hot)\n",
    "\n",
    "type_cols = list(one_hot.columns)\n",
    "labels = type_cols + ['landing_x', 'landing_y']\n",
    "\n",
    "# drop unused_columns\n",
    "for col in cols_to_remove:\n",
    "    df.drop(col, axis='columns', inplace=True)\n",
    "\n",
    "# roundscore\n",
    "df['roundscore_A'] = df['roundscore_A'] / 21\n",
    "df['roundscore_B'] = df['roundscore_B'] / 21\n",
    "\n",
    "# group by matches - cannot mix rally from different matches\n",
    "matches = []\n",
    "for _, m in df.groupby('rally_id'):\n",
    "    m.drop(\"rally_id\", axis=\"columns\", inplace=True)\n",
    "    matches.append(m)\n",
    "\n",
    "cols = list(df.columns)\n",
    "cols.remove('rally_id')\n",
    "np.array(cols), np.array(labels)"
   ]
  },
  {
   "cell_type": "code",
   "execution_count": null,
   "metadata": {},
   "outputs": [
    {
     "data": {
      "text/plain": [
       "(array(['rally', 'roundscore_A', 'roundscore_B', 'player', 'landing_x',\n",
       "        'landing_y', 'set', 'clear', 'defensive shot', 'drive', 'drop',\n",
       "        'lob', 'long service', 'net shot', 'push/rush', 'short service',\n",
       "        'smash'], dtype='<U14'),\n",
       " array(['clear', 'defensive shot', 'drive', 'drop', 'lob', 'long service',\n",
       "        'net shot', 'push/rush', 'short service', 'smash', 'landing_x',\n",
       "        'landing_y'], dtype='<U14'))"
      ]
     },
     "metadata": {},
     "output_type": "display_data"
    }
   ],
   "source": [
    "df = pd.read_csv(csv)\n",
    "\n",
    "# one hot encode type\n",
    "one_hot = pd.get_dummies(df['type'])\n",
    "df = df.drop('type', axis=1)\n",
    "df = df.join(one_hot)\n",
    "\n",
    "type_cols = list(one_hot.columns)\n",
    "labels = type_cols + ['landing_x', 'landing_y']\n",
    "\n",
    "# drop unused_columns\n",
    "for col in cols_to_remove:\n",
    "    df.drop(col, axis='columns', inplace=True)\n",
    "\n",
    "# roundscore\n",
    "df['roundscore_A'] = df['roundscore_A'] / 21\n",
    "df['roundscore_B'] = df['roundscore_B'] / 21\n",
    "\n",
    "# group by matches - cannot mix rally from different matches\n",
    "matches = []\n",
    "for _, m in df.groupby('rally_id'):\n",
    "    m.drop(\"rally_id\", axis=\"columns\", inplace=True)\n",
    "    matches.append(m)\n",
    "\n",
    "cols = list(df.columns)\n",
    "cols.remove('rally_id')\n",
    "np.array(cols), np.array(labels)"
   ]
  },
  {
   "cell_type": "code",
   "execution_count": null,
   "metadata": {},
   "outputs": [
    {
     "data": {
      "text/plain": [
       "(array(['rally', 'roundscore_A', 'roundscore_B', 'player', 'landing_x',\n",
       "        'landing_y', 'set', 'clear', 'defensive shot', 'drive', 'drop',\n",
       "        'lob', 'long service', 'net shot', 'push/rush', 'short service',\n",
       "        'smash'], dtype='<U14'),\n",
       " array(['clear', 'defensive shot', 'drive', 'drop', 'lob', 'long service',\n",
       "        'net shot', 'push/rush', 'short service', 'smash', 'landing_x',\n",
       "        'landing_y'], dtype='<U14'))"
      ]
     },
     "metadata": {},
     "output_type": "display_data"
    }
   ],
   "source": [
    "df = pd.read_csv(csv)\n",
    "\n",
    "# one hot encode type\n",
    "one_hot = pd.get_dummies(df['type'])\n",
    "df = df.drop('type', axis=1)\n",
    "df = df.join(one_hot)\n",
    "\n",
    "type_cols = list(one_hot.columns)\n",
    "labels = type_cols + ['landing_x', 'landing_y']\n",
    "\n",
    "# drop unused_columns\n",
    "for col in cols_to_remove:\n",
    "    df.drop(col, axis='columns', inplace=True)\n",
    "\n",
    "# roundscore\n",
    "df['roundscore_A'] = df['roundscore_A'] / 21\n",
    "df['roundscore_B'] = df['roundscore_B'] / 21\n",
    "\n",
    "# group by matches - cannot mix rally from different matches\n",
    "matches = []\n",
    "for _, m in df.groupby('rally_id'):\n",
    "    m.drop(\"rally_id\", axis=\"columns\", inplace=True)\n",
    "    matches.append(m)\n",
    "\n",
    "cols = list(df.columns)\n",
    "cols.remove('rally_id')\n",
    "np.array(cols), np.array(labels)"
   ]
  },
  {
   "cell_type": "code",
   "execution_count": null,
   "metadata": {},
   "outputs": [
    {
     "data": {
      "text/plain": [
       "(array(['rally', 'roundscore_A', 'roundscore_B', 'player', 'landing_x',\n",
       "        'landing_y', 'set', 'clear', 'defensive shot', 'drive', 'drop',\n",
       "        'lob', 'long service', 'net shot', 'push/rush', 'short service',\n",
       "        'smash'], dtype='<U14'),\n",
       " array(['clear', 'defensive shot', 'drive', 'drop', 'lob', 'long service',\n",
       "        'net shot', 'push/rush', 'short service', 'smash', 'landing_x',\n",
       "        'landing_y'], dtype='<U14'))"
      ]
     },
     "metadata": {},
     "output_type": "display_data"
    }
   ],
   "source": [
    "df = pd.read_csv(csv)\n",
    "\n",
    "# one hot encode type\n",
    "one_hot = pd.get_dummies(df['type'])\n",
    "df = df.drop('type', axis=1)\n",
    "df = df.join(one_hot)\n",
    "\n",
    "type_cols = list(one_hot.columns)\n",
    "labels = type_cols + ['landing_x', 'landing_y']\n",
    "\n",
    "# drop unused_columns\n",
    "for col in cols_to_remove:\n",
    "    df.drop(col, axis='columns', inplace=True)\n",
    "\n",
    "# roundscore\n",
    "df['roundscore_A'] = df['roundscore_A'] / 21\n",
    "df['roundscore_B'] = df['roundscore_B'] / 21\n",
    "\n",
    "# group by matches - cannot mix rally from different matches\n",
    "matches = []\n",
    "for _, m in df.groupby('rally_id'):\n",
    "    m.drop(\"rally_id\", axis=\"columns\", inplace=True)\n",
    "    matches.append(m)\n",
    "\n",
    "cols = list(df.columns)\n",
    "cols.remove('rally_id')\n",
    "np.array(cols), np.array(labels)"
   ]
  },
  {
   "cell_type": "code",
   "execution_count": null,
   "metadata": {},
   "outputs": [
    {
     "data": {
      "text/plain": [
       "(array(['rally', 'roundscore_A', 'roundscore_B', 'player', 'landing_x',\n",
       "        'landing_y', 'set', 'clear', 'defensive shot', 'drive', 'drop',\n",
       "        'lob', 'long service', 'net shot', 'push/rush', 'short service',\n",
       "        'smash'], dtype='<U14'),\n",
       " array(['clear', 'defensive shot', 'drive', 'drop', 'lob', 'long service',\n",
       "        'net shot', 'push/rush', 'short service', 'smash', 'landing_x',\n",
       "        'landing_y'], dtype='<U14'))"
      ]
     },
     "metadata": {},
     "output_type": "display_data"
    }
   ],
   "source": [
    "df = pd.read_csv(csv)\n",
    "\n",
    "# one hot encode type\n",
    "one_hot = pd.get_dummies(df['type'])\n",
    "df = df.drop('type', axis=1)\n",
    "df = df.join(one_hot)\n",
    "\n",
    "type_cols = list(one_hot.columns)\n",
    "labels = type_cols + ['landing_x', 'landing_y']\n",
    "\n",
    "# drop unused_columns\n",
    "for col in cols_to_remove:\n",
    "    df.drop(col, axis='columns', inplace=True)\n",
    "\n",
    "# roundscore\n",
    "df['roundscore_A'] = df['roundscore_A'] / 21\n",
    "df['roundscore_B'] = df['roundscore_B'] / 21\n",
    "\n",
    "# group by matches - cannot mix rally from different matches\n",
    "matches = []\n",
    "for _, m in df.groupby('rally_id'):\n",
    "    m.drop(\"rally_id\", axis=\"columns\", inplace=True)\n",
    "    matches.append(m)\n",
    "\n",
    "cols = list(df.columns)\n",
    "cols.remove('rally_id')\n",
    "np.array(cols), np.array(labels)"
   ]
  },
  {
   "cell_type": "code",
   "execution_count": null,
   "metadata": {},
   "outputs": [
    {
     "data": {
      "text/plain": [
       "(array(['rally', 'roundscore_A', 'roundscore_B', 'player', 'landing_x',\n",
       "        'landing_y', 'set', 'clear', 'defensive shot', 'drive', 'drop',\n",
       "        'lob', 'long service', 'net shot', 'push/rush', 'short service',\n",
       "        'smash'], dtype='<U14'),\n",
       " array(['clear', 'defensive shot', 'drive', 'drop', 'lob', 'long service',\n",
       "        'net shot', 'push/rush', 'short service', 'smash', 'landing_x',\n",
       "        'landing_y'], dtype='<U14'))"
      ]
     },
     "metadata": {},
     "output_type": "display_data"
    }
   ],
   "source": [
    "df = pd.read_csv(csv)\n",
    "\n",
    "# one hot encode type\n",
    "one_hot = pd.get_dummies(df['type'])\n",
    "df = df.drop('type', axis=1)\n",
    "df = df.join(one_hot)\n",
    "\n",
    "type_cols = list(one_hot.columns)\n",
    "labels = type_cols + ['landing_x', 'landing_y']\n",
    "\n",
    "# drop unused_columns\n",
    "for col in cols_to_remove:\n",
    "    df.drop(col, axis='columns', inplace=True)\n",
    "\n",
    "# roundscore\n",
    "df['roundscore_A'] = df['roundscore_A'] / 21\n",
    "df['roundscore_B'] = df['roundscore_B'] / 21\n",
    "\n",
    "# group by matches - cannot mix rally from different matches\n",
    "matches = []\n",
    "for _, m in df.groupby('rally_id'):\n",
    "    m.drop(\"rally_id\", axis=\"columns\", inplace=True)\n",
    "    matches.append(m)\n",
    "\n",
    "cols = list(df.columns)\n",
    "cols.remove('rally_id')\n",
    "np.array(cols), np.array(labels)"
   ]
  },
  {
   "cell_type": "code",
   "execution_count": null,
   "metadata": {},
   "outputs": [
    {
     "data": {
      "text/plain": [
       "(array(['rally', 'roundscore_A', 'roundscore_B', 'player', 'landing_x',\n",
       "        'landing_y', 'set', 'clear', 'defensive shot', 'drive', 'drop',\n",
       "        'lob', 'long service', 'net shot', 'push/rush', 'short service',\n",
       "        'smash'], dtype='<U14'),\n",
       " array(['clear', 'defensive shot', 'drive', 'drop', 'lob', 'long service',\n",
       "        'net shot', 'push/rush', 'short service', 'smash', 'landing_x',\n",
       "        'landing_y'], dtype='<U14'))"
      ]
     },
     "metadata": {},
     "output_type": "display_data"
    }
   ],
   "source": [
    "df = pd.read_csv(csv)\n",
    "\n",
    "# one hot encode type\n",
    "one_hot = pd.get_dummies(df['type'])\n",
    "df = df.drop('type', axis=1)\n",
    "df = df.join(one_hot)\n",
    "\n",
    "type_cols = list(one_hot.columns)\n",
    "labels = type_cols + ['landing_x', 'landing_y']\n",
    "\n",
    "# drop unused_columns\n",
    "for col in cols_to_remove:\n",
    "    df.drop(col, axis='columns', inplace=True)\n",
    "\n",
    "# roundscore\n",
    "df['roundscore_A'] = df['roundscore_A'] / 21\n",
    "df['roundscore_B'] = df['roundscore_B'] / 21\n",
    "\n",
    "# group by matches - cannot mix rally from different matches\n",
    "matches = []\n",
    "for _, m in df.groupby('rally_id'):\n",
    "    m.drop(\"rally_id\", axis=\"columns\", inplace=True)\n",
    "    matches.append(m)\n",
    "\n",
    "cols = list(df.columns)\n",
    "cols.remove('rally_id')\n",
    "np.array(cols), np.array(labels)"
   ]
  },
  {
   "cell_type": "code",
   "execution_count": null,
   "metadata": {},
   "outputs": [
    {
     "data": {
      "text/plain": [
       "(array(['rally', 'roundscore_A', 'roundscore_B', 'player', 'landing_x',\n",
       "        'landing_y', 'set', 'clear', 'defensive shot', 'drive', 'drop',\n",
       "        'lob', 'long service', 'net shot', 'push/rush', 'short service',\n",
       "        'smash'], dtype='<U14'),\n",
       " array(['clear', 'defensive shot', 'drive', 'drop', 'lob', 'long service',\n",
       "        'net shot', 'push/rush', 'short service', 'smash', 'landing_x',\n",
       "        'landing_y'], dtype='<U14'))"
      ]
     },
     "metadata": {},
     "output_type": "display_data"
    }
   ],
   "source": [
    "df = pd.read_csv(csv)\n",
    "\n",
    "# one hot encode type\n",
    "one_hot = pd.get_dummies(df['type'])\n",
    "df = df.drop('type', axis=1)\n",
    "df = df.join(one_hot)\n",
    "\n",
    "type_cols = list(one_hot.columns)\n",
    "labels = type_cols + ['landing_x', 'landing_y']\n",
    "\n",
    "# drop unused_columns\n",
    "for col in cols_to_remove:\n",
    "    df.drop(col, axis='columns', inplace=True)\n",
    "\n",
    "# roundscore\n",
    "df['roundscore_A'] = df['roundscore_A'] / 21\n",
    "df['roundscore_B'] = df['roundscore_B'] / 21\n",
    "\n",
    "# group by matches - cannot mix rally from different matches\n",
    "matches = []\n",
    "for _, m in df.groupby('rally_id'):\n",
    "    m.drop(\"rally_id\", axis=\"columns\", inplace=True)\n",
    "    matches.append(m)\n",
    "\n",
    "cols = list(df.columns)\n",
    "cols.remove('rally_id')\n",
    "np.array(cols), np.array(labels)"
   ]
  },
  {
   "cell_type": "code",
   "execution_count": null,
   "metadata": {},
   "outputs": [
    {
     "data": {
      "text/plain": [
       "(array(['rally', 'roundscore_A', 'roundscore_B', 'player', 'landing_x',\n",
       "        'landing_y', 'set', 'clear', 'defensive shot', 'drive', 'drop',\n",
       "        'lob', 'long service', 'net shot', 'push/rush', 'short service',\n",
       "        'smash'], dtype='<U14'),\n",
       " array(['clear', 'defensive shot', 'drive', 'drop', 'lob', 'long service',\n",
       "        'net shot', 'push/rush', 'short service', 'smash', 'landing_x',\n",
       "        'landing_y'], dtype='<U14'))"
      ]
     },
     "metadata": {},
     "output_type": "display_data"
    }
   ],
   "source": [
    "df = pd.read_csv(csv)\n",
    "\n",
    "# one hot encode type\n",
    "one_hot = pd.get_dummies(df['type'])\n",
    "df = df.drop('type', axis=1)\n",
    "df = df.join(one_hot)\n",
    "\n",
    "type_cols = list(one_hot.columns)\n",
    "labels = type_cols + ['landing_x', 'landing_y']\n",
    "\n",
    "# drop unused_columns\n",
    "for col in cols_to_remove:\n",
    "    df.drop(col, axis='columns', inplace=True)\n",
    "\n",
    "# roundscore\n",
    "df['roundscore_A'] = df['roundscore_A'] / 21\n",
    "df['roundscore_B'] = df['roundscore_B'] / 21\n",
    "\n",
    "# group by matches - cannot mix rally from different matches\n",
    "matches = []\n",
    "for _, m in df.groupby('rally_id'):\n",
    "    m.drop(\"rally_id\", axis=\"columns\", inplace=True)\n",
    "    matches.append(m)\n",
    "\n",
    "cols = list(df.columns)\n",
    "cols.remove('rally_id')\n",
    "np.array(cols), np.array(labels)"
   ]
  },
  {
   "cell_type": "code",
   "execution_count": 64,
   "metadata": {},
   "outputs": [],
   "source": [
    "x, y_coord, y_type = [], [], []\n",
    "\n",
    "for match in matches:\n",
    "    for _, r in match.groupby('rally'):\n",
    "        label_coord = np.array([r[l] for i, l in enumerate(['landing_x', 'landing_y'])]).T.tolist()\n",
    "        label_type = np.array([r[l] for i, l in enumerate(type_cols)]).T.tolist()\n",
    "        feature = np.array([r[l] for l in r.columns if l not in ['rally', ]]).T.tolist()\n",
    "        \n",
    "        for i in range(len(feature) - T - 1):\n",
    "            x.append(feature[i:i+T])\n",
    "            y_coord.append(label_coord[i+T])\n",
    "            y_type.append(label_type[i+T])\n",
    "\n",
    "x, y_coord, y_type = \\\n",
    "    np.array(x).astype(np.float32), np.array(y_coord).astype(np.float32), np.array(y_type).astype(np.float32)"
   ]
  },
  {
   "cell_type": "code",
   "execution_count": 65,
   "metadata": {},
   "outputs": [
    {
     "data": {
      "text/plain": [
       "(18832, 4, 16)"
      ]
     },
     "execution_count": 65,
     "metadata": {},
     "output_type": "execute_result"
    }
   ],
   "source": [
    "x.shape"
   ]
  },
  {
   "cell_type": "code",
   "execution_count": 66,
   "metadata": {},
   "outputs": [],
   "source": [
    "import torch\n",
    "from torch.utils.data import Dataset, DataLoader\n",
    "\n",
    "import pandas as pd\n",
    "\n",
    "class dataset(Dataset):\n",
    "    def __init__(\n",
    "        self\n",
    "    ):\n",
    "        super().__init__()\n",
    "        self.x = x\n",
    "        self.y_coord = y_coord\n",
    "        self.y_type = y_type\n",
    "    \n",
    "    def __len__(self):\n",
    "        return len(self.x)\n",
    "    \n",
    "    def __getitem__(self, idx):\n",
    "        return self.x[idx], self.y_coord[idx], self.y_type[idx]"
   ]
  },
  {
   "cell_type": "code",
   "execution_count": 67,
   "metadata": {},
   "outputs": [],
   "source": [
    "data = dataset()"
   ]
  },
  {
   "cell_type": "code",
   "execution_count": 68,
   "metadata": {},
   "outputs": [],
   "source": [
    "dataloader = DataLoader(data, batch_size=128, shuffle=True)"
   ]
  },
  {
   "cell_type": "code",
   "execution_count": 69,
   "metadata": {},
   "outputs": [
    {
     "name": "stdout",
     "output_type": "stream",
     "text": [
      "torch.Size([128, 4, 16]) torch.Size([128, 2])\n"
     ]
    }
   ],
   "source": [
    "for x, y_coord, y_type in dataloader:\n",
    "    print(x.shape, y_coord.shape)\n",
    "    break"
   ]
  },
  {
   "cell_type": "code",
   "execution_count": 70,
   "metadata": {},
   "outputs": [],
   "source": [
    "# c1 = nn.Loss"
   ]
  },
  {
   "cell_type": "code",
   "execution_count": 218,
   "metadata": {},
   "outputs": [],
   "source": [
    "class Head(nn.Module):\n",
    "    def __init__(self, n_embd, head_size, dropout):\n",
    "        super().__init__()\n",
    "        self.key = nn.Linear(n_embd, head_size, bias=False)\n",
    "        self.query = nn.Linear(n_embd, head_size, bias=False)\n",
    "        self.value = nn.Linear(n_embd, head_size, bias=False)\n",
    "        self.dropout = nn.Dropout(dropout)\n",
    "    \n",
    "    def forward(self, x): # x -> idx that is being embedded\n",
    "        B, T, C = x.shape # B: batch size, T: sequence/timestep length, C: d_model/n_embd\n",
    "\n",
    "        k = self.key(x)\n",
    "        q = self.query(x) # (B, T, C)\n",
    "\n",
    "        wei = q @ k.transpose(-2, -1) * C ** -0.5 # (B, T, T)\n",
    "        wei = nn.functional.softmax(wei, dim=-1)\n",
    "        wei = self.dropout(wei)\n",
    "        \n",
    "        v = self.value(x) # (B, T, head_size)\n",
    "        out = wei @ v\n",
    "        return out\n",
    "\n",
    "class MultiHeadAttention(nn.Module):\n",
    "    def __init__(self, n_embd, num_heads, head_size, dropout):\n",
    "        super().__init__()\n",
    "        self.heads = nn.ModuleList([Head(n_embd, head_size, dropout) for _ in range(num_heads)])\n",
    "        self.proj = nn.Linear(n_embd, n_embd)\n",
    "        self.dropout = nn.Dropout(dropout)\n",
    "    \n",
    "    def forward(self, x):\n",
    "        out = torch.cat([h(x) for h in self.heads], dim=-1)\n",
    "        out = self.proj(out)\n",
    "        out = self.dropout(out)\n",
    "        return out\n",
    "\n",
    "class FeedForward(nn.Module):\n",
    "    \"\"\"a simple linear layer followed by a non-linearity\"\"\"\n",
    "    \n",
    "    def __init__(self, n_embd, dropout = 0.2):\n",
    "        super().__init__()\n",
    "        self.net = nn.Sequential(\n",
    "            nn.Linear(n_embd, 4 * n_embd),\n",
    "            nn.ReLU(),\n",
    "            nn.Linear(4 * n_embd, n_embd), # projection layer\n",
    "            nn.Dropout(dropout) # dropout residual connections\n",
    "        )\n",
    "    \n",
    "    def forward(self, x):\n",
    "        return self.net(x)\n",
    "\n",
    "class Block(nn.Module):\n",
    "    \"\"\"Transformer encoder block: communication followed by computation\"\"\"\n",
    "    \n",
    "    def __init__(self, n_embd, n_head, dropout=0.2):\n",
    "        super().__init__()\n",
    "        head_size = n_embd // n_head\n",
    "        self.sa = MultiHeadAttention(n_embd, n_head, head_size, dropout)\n",
    "        self.ffwd = FeedForward(n_embd, dropout)\n",
    "        self.ln1 = nn.LayerNorm(n_embd)\n",
    "        self.ln2 = nn.LayerNorm(n_embd)\n",
    "    \n",
    "    def forward(self, x):\n",
    "        x = x + self.sa(self.ln1(x)) # residual connections\n",
    "        x = x + self.ffwd(self.ln2(x))\n",
    "        return x\n",
    "\n",
    "class Model(nn.Module):\n",
    "    def __init__(self, fan_in=16):\n",
    "        super().__init__()\n",
    "        mul = 4\n",
    "        self.e_proj = nn.Linear(fan_in, fan_in * mul)\n",
    "        self.block = self.blocks = nn.Sequential(*[Block(fan_in * mul, 8) for _ in range(12)])            \n",
    "        self.proj = nn.Linear(fan_in * mul, mul, bias=False)\n",
    "        self.ln_f = nn.LayerNorm(fan_in * mul)\n",
    "        self.c_head = nn.Linear(fan_in, 2)\n",
    "        self.t_head = nn.Linear(fan_in, 10)\n",
    "        \n",
    "    def params(self):\n",
    "        return f'{sum(p.numel() for p in self.parameters())/1e6} M parameters'\n",
    "    \n",
    "    def forward(self, x):\n",
    "        B, T, C = x.shape # (batch, timesteps, feature channel)\n",
    "        e = self.e_proj(x)\n",
    "        attn = self.ln_f(self.block(e))\n",
    "        out = self.proj(attn)\n",
    "        out = out.view(B, -1)\n",
    "        \n",
    "        coord, typ = self.c_head(out), self.t_head(out)\n",
    "        \n",
    "        return coord, typ"
   ]
  },
  {
   "cell_type": "code",
   "execution_count": 221,
   "metadata": {},
   "outputs": [
    {
     "data": {
      "text/plain": [
       "'0.59918 M parameters'"
      ]
     },
     "execution_count": 221,
     "metadata": {},
     "output_type": "execute_result"
    }
   ],
   "source": [
    "c1 = nn.MSELoss()\n",
    "c2 = nn.CrossEntropyLoss()\n",
    "\n",
    "model = Model()\n",
    "optimizer = optim.Adam(model.parameters(), lr=3e-4)\n",
    "model.params()"
   ]
  },
  {
   "cell_type": "code",
   "execution_count": 222,
   "metadata": {},
   "outputs": [
    {
     "name": "stdout",
     "output_type": "stream",
     "text": [
      "2.3560214042663574\n",
      "2.5420033931732178\n",
      "2.1042227745056152\n",
      "2.476055383682251\n",
      "1.8915904760360718\n",
      "2.19382905960083\n",
      "1.8629512786865234\n",
      "1.713708519935608\n",
      "1.537877082824707\n",
      "2.1987013816833496\n",
      "2.031906843185425\n",
      "1.6547048091888428\n",
      "2.001168727874756\n",
      "1.8789727687835693\n",
      "1.7914892435073853\n",
      "1.4493775367736816\n",
      "1.6348176002502441\n",
      "1.82283353805542\n",
      "1.2368354797363281\n",
      "1.8113491535186768\n",
      "1.492713212966919\n",
      "1.8713438510894775\n",
      "1.9449330568313599\n",
      "1.518558382987976\n",
      "1.5502216815948486\n",
      "1.7902227640151978\n",
      "1.5611803531646729\n",
      "1.2698231935501099\n",
      "1.5796598196029663\n",
      "1.8158564567565918\n",
      "1.121293544769287\n",
      "1.6536694765090942\n",
      "1.6354049444198608\n",
      "1.4529600143432617\n",
      "1.57710599899292\n",
      "1.495058536529541\n",
      "1.8795143365859985\n",
      "1.5631000995635986\n",
      "1.3885079622268677\n",
      "1.322191596031189\n",
      "1.3636349439620972\n",
      "1.6317962408065796\n",
      "1.6774654388427734\n",
      "1.48590087890625\n",
      "1.174394965171814\n",
      "1.6732902526855469\n",
      "1.4706100225448608\n",
      "1.8990265130996704\n",
      "1.4981098175048828\n",
      "1.6694451570510864\n",
      "1.4901723861694336\n",
      "1.3265312910079956\n",
      "1.422493577003479\n",
      "1.1901803016662598\n",
      "1.7631950378417969\n",
      "1.3112680912017822\n",
      "1.598146915435791\n",
      "1.7311135530471802\n",
      "1.3571711778640747\n",
      "1.702730655670166\n",
      "1.48203706741333\n",
      "1.639918565750122\n",
      "1.3056761026382446\n",
      "1.1828420162200928\n",
      "1.4686695337295532\n",
      "1.6467125415802002\n",
      "1.6453282833099365\n",
      "1.3769007921218872\n",
      "1.538976788520813\n",
      "1.2644004821777344\n",
      "1.534233808517456\n",
      "1.3227746486663818\n",
      "1.349861741065979\n",
      "1.7494325637817383\n",
      "1.8482340574264526\n",
      "1.3578492403030396\n",
      "2.0058226585388184\n",
      "1.613539218902588\n",
      "1.3543416261672974\n",
      "1.1773967742919922\n",
      "0.8896534442901611\n",
      "1.1302069425582886\n",
      "1.3990187644958496\n",
      "1.4461240768432617\n",
      "1.399437665939331\n",
      "1.3074939250946045\n",
      "1.4302054643630981\n",
      "1.9999330043792725\n",
      "1.3567852973937988\n",
      "1.4991240501403809\n",
      "1.1211141347885132\n",
      "1.2943845987319946\n",
      "0.8870134949684143\n",
      "1.5819803476333618\n",
      "1.3541651964187622\n",
      "1.3940682411193848\n",
      "1.167288064956665\n",
      "1.3493850231170654\n",
      "1.0907280445098877\n",
      "1.6098549365997314\n"
     ]
    }
   ],
   "source": [
    "for i in range(100):\n",
    "    for x, y_coord, y_type in dataloader:\n",
    "        B, T, C = x.shape\n",
    "        coord, typ = model(x)\n",
    "        \n",
    "        coord_loss, typ_loss = c1(coord, y_coord), c2(typ, y_type)\n",
    "        loss = coord_loss + typ_loss\n",
    "\n",
    "        optimizer.zero_grad()\n",
    "        loss.backward()\n",
    "        optimizer.step()\n",
    "    print(loss.item())"
   ]
  },
  {
   "cell_type": "code",
   "execution_count": 230,
   "metadata": {},
   "outputs": [
    {
     "name": "stderr",
     "output_type": "stream",
     "text": [
      "/var/folders/t8/n0wxg8y925qg6fcsjxz2zgqr0000gn/T/ipykernel_33939/760285421.py:5: UserWarning: Implicit dimension choice for softmax has been deprecated. Change the call to include dim=X as an argument.\n",
      "  typ = F.softmax(typ)\n"
     ]
    },
    {
     "data": {
      "text/plain": [
       "(tensor([[0.3249, 0.5158]], grad_fn=<AddmmBackward0>),\n",
       " tensor([[2.6005e-05, 9.9784e-01, 1.3092e-03, 3.4418e-05, 6.6022e-05, 2.8467e-07,\n",
       "          3.9711e-04, 3.1505e-04, 1.8285e-07, 7.6206e-06]],\n",
       "        grad_fn=<SoftmaxBackward0>))"
      ]
     },
     "execution_count": 230,
     "metadata": {},
     "output_type": "execute_result"
    }
   ],
   "source": [
    "model.eval()\n",
    "\n",
    "test = x[0].unsqueeze(0)\n",
    "coord, typ = model(test)\n",
    "typ = F.softmax(typ)\n",
    "coord, typ"
   ]
  },
  {
   "cell_type": "code",
   "execution_count": 231,
   "metadata": {},
   "outputs": [],
   "source": [
    "csv=\"../val_given.csv\"\n",
    "T = 4"
   ]
  },
  {
   "cell_type": "code",
   "execution_count": 233,
   "metadata": {},
   "outputs": [
    {
     "data": {
      "text/plain": [
       "(array(['rally', 'roundscore_A', 'roundscore_B', 'player', 'landing_x',\n",
       "        'landing_y', 'set', 'rally_id', 'clear', 'defensive shot', 'drive',\n",
       "        'drop', 'lob', 'long service', 'net shot', 'push/rush',\n",
       "        'short service', 'smash'], dtype='<U14'),\n",
       " array(['clear', 'defensive shot', 'drive', 'drop', 'lob', 'long service',\n",
       "        'net shot', 'push/rush', 'short service', 'smash', 'landing_x',\n",
       "        'landing_y'], dtype='<U14'))"
      ]
     },
     "execution_count": 233,
     "metadata": {},
     "output_type": "execute_result"
    }
   ],
   "source": [
    "df = pd.read_csv(csv)\n",
    "\n",
    "# one hot encode type\n",
    "one_hot = pd.get_dummies(df['type'])\n",
    "df = df.drop('type', axis=1)\n",
    "df = df.join(one_hot)\n",
    "\n",
    "type_cols = list(one_hot.columns)\n",
    "labels = type_cols + ['landing_x', 'landing_y']\n",
    "\n",
    "# drop unused_columns\n",
    "for col in cols_to_remove:\n",
    "    df.drop(col, axis='columns', inplace=True)\n",
    "\n",
    "# roundscore\n",
    "df['roundscore_A'] = df['roundscore_A'] / 21\n",
    "df['roundscore_B'] = df['roundscore_B'] / 21\n",
    "\n",
    "# group by matches - cannot mix rally from different matches\n",
    "matches = []\n",
    "for _, m in df.groupby('rally_id'):\n",
    "    # m.drop(\"rally_id\", axis=\"columns\", inplace=True)\n",
    "    matches.append(m)\n",
    "\n",
    "cols = list(df.columns)\n",
    "# cols.remove('rally_id')\n",
    "np.array(cols), np.array(labels)"
   ]
  },
  {
   "cell_type": "code",
   "execution_count": 267,
   "metadata": {},
   "outputs": [],
   "source": [
    "x = []\n",
    "\n",
    "for match in matches:\n",
    "    for _, r in match.groupby('rally'):\n",
    "        feature = np.array([r[l] for l in r.columns if l not in ['rally', ]]).T.tolist()\n",
    "        \n",
    "        for i in range(1):\n",
    "            x.append(feature[i:i+T])\n",
    "\n",
    "x = np.array(x).astype(np.float32)"
   ]
  },
  {
   "cell_type": "code",
   "execution_count": 324,
   "metadata": {},
   "outputs": [],
   "source": [
    "model.eval()\n",
    "\n",
    "rally_length = 10 - 4\n",
    "\n",
    "res = []\n",
    "\n",
    "with torch.no_grad():\n",
    "    for i, data in enumerate(x):\n",
    "        rally_id = data[:, 6][0]\n",
    "        roundscore_A = data[:, 0][0].item()\n",
    "        roundscore_B = data[:, 1][0].item()\n",
    "        player1 = data[:, 2][0].item()\n",
    "        player2 = data[:, 2][1].item()\n",
    "        \n",
    "        player = player1\n",
    "        set = data[:, 5][0].item()\n",
    "        \n",
    "        r = [rally_id, i]\n",
    "        data = np.delete(data, 6, 1) # delete rally_id\n",
    "        \n",
    "        for j, ball_round in enumerate(range(rally_length)):\n",
    "            seq = r.copy()\n",
    "            \n",
    "            _x = np.expand_dims(data, 0)\n",
    "            _x = torch.from_numpy(_x)\n",
    "            coord, typ = model(_x)\n",
    "            coord = torch.squeeze(coord).tolist()\n",
    "            typ = torch.squeeze(typ)\n",
    "            typ_softmax = F.softmax(typ, dim=-1).tolist()\n",
    "            seq = seq + [5 + j] + coord + typ_softmax\n",
    "            \n",
    "            _x = [roundscore_A, roundscore_B, player] + coord + [set] + typ.tolist()\n",
    "\n",
    "            data = data[1:, :]\n",
    "            data = np.concatenate((data, np.expand_dims(_x, 0)), dtype=np.float32)\n",
    "            \n",
    "            if player == player1:\n",
    "                player = player2\n",
    "            else:\n",
    "                player = player1\n",
    "        \n",
    "            res.append(seq)"
   ]
  },
  {
   "cell_type": "code",
   "execution_count": 327,
   "metadata": {},
   "outputs": [],
   "source": [
    "df = pd.DataFrame(np.array(res), columns = ['rally_id','sample_id','ball_round','landing_x','landing_y','clear', 'defensive shot', 'drive','drop', 'lob', 'long service', 'net shot', 'push/rush','short service', 'smash'])"
   ]
  },
  {
   "cell_type": "code",
   "execution_count": 331,
   "metadata": {},
   "outputs": [],
   "source": [
    "df['rally_id'] = df['rally_id'].apply(int)\n",
    "df['sample_id'] = df['sample_id'].apply(int)\n",
    "df['ball_round'] = df['ball_round'].apply(int)"
   ]
  },
  {
   "cell_type": "code",
   "execution_count": 333,
   "metadata": {},
   "outputs": [],
   "source": [
    "df.to_csv(\"exp1.csv\")"
   ]
  },
  {
   "cell_type": "code",
   "execution_count": null,
   "metadata": {},
   "outputs": [],
   "source": []
  }
 ],
 "metadata": {
  "kernelspec": {
   "display_name": "coachai",
   "language": "python",
   "name": "python3"
  },
  "language_info": {
   "codemirror_mode": {
    "name": "ipython",
    "version": 3
   },
   "file_extension": ".py",
   "mimetype": "text/x-python",
   "name": "python",
   "nbconvert_exporter": "python",
   "pygments_lexer": "ipython3",
   "version": "3.9.16"
  },
  "orig_nbformat": 4
 },
 "nbformat": 4,
 "nbformat_minor": 2
}
